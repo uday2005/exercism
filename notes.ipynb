{
 "cells": [
  {
   "cell_type": "markdown",
   "metadata": {},
   "source": [
    "SO THIS IS THE NOTES SECTION I AM CREATINHG USING EXERCISM.PY"
   ]
  },
  {
   "cell_type": "code",
   "execution_count": 23,
   "metadata": {},
   "outputs": [
    {
     "name": "stdout",
     "output_type": "stream",
     "text": [
      "Hello world\n"
     ]
    }
   ],
   "source": [
    "print(\"Hello world\")"
   ]
  },
  {
   "cell_type": "markdown",
   "metadata": {},
   "source": [
    "1) Here we will first write down the ways to reverse a string"
   ]
  },
  {
   "cell_type": "markdown",
   "metadata": {},
   "source": [
    "so these are two method which uses the property of python   \n",
    "a) string[start:end:step]  \n",
    "b) string property that is reversed and then using join method "
   ]
  },
  {
   "cell_type": "code",
   "execution_count": 24,
   "metadata": {},
   "outputs": [
    {
     "name": "stdout",
     "output_type": "stream",
     "text": [
      "yadU\n"
     ]
    }
   ],
   "source": [
    "why = \"Uday\"\n",
    "rev= why[::-1]\n",
    "print(rev)"
   ]
  },
  {
   "cell_type": "code",
   "execution_count": 25,
   "metadata": {},
   "outputs": [
    {
     "name": "stdout",
     "output_type": "stream",
     "text": [
      "YABMOBTII\n"
     ]
    }
   ],
   "source": [
    "why = \"IITBOMBAY\"\n",
    "rev = ''.join(reversed(why))\n",
    "print(rev)"
   ]
  },
  {
   "cell_type": "markdown",
   "metadata": {},
   "source": [
    " c) We can also loop for reversing a string"
   ]
  },
  {
   "cell_type": "code",
   "execution_count": 26,
   "metadata": {},
   "outputs": [
    {
     "name": "stdout",
     "output_type": "stream",
     "text": [
      "YABMOBTII\n"
     ]
    }
   ],
   "source": [
    "why = \"IITBOMBAY\"\n",
    "rev = \"\"\n",
    "for ch in why:\n",
    "    rev = ch + rev\n",
    "print(rev)"
   ]
  },
  {
   "cell_type": "markdown",
   "metadata": {},
   "source": [
    "If a list, tuple, set or other collection of individual strings needs to be combined into a single str, <str>.join(<iterable>), is a better option\n"
   ]
  },
  {
   "cell_type": "code",
   "execution_count": 29,
   "metadata": {},
   "outputs": [
    {
     "name": "stdout",
     "output_type": "stream",
     "text": [
      "hen egg rooster\n",
      "hen::egg::rooster\n"
     ]
    }
   ],
   "source": [
    "chickens = [\"hen\", \"egg\", \"rooster\"]\n",
    "you = ' '.join(chickens)\n",
    "why = \"::\".join(chickens)\n",
    "print(you)\n",
    "print(why)"
   ]
  },
  {
   "cell_type": "markdown",
   "metadata": {},
   "source": [
    "str indexing works from right and left also  \n",
    "right base indexing work from zero   \n",
    "left base indexing works from negative one"
   ]
  },
  {
   "cell_type": "code",
   "execution_count": 30,
   "metadata": {},
   "outputs": [
    {
     "name": "stdout",
     "output_type": "stream",
     "text": [
      "T\n",
      "A\n"
     ]
    }
   ],
   "source": [
    "str = \"IITBOMBAY\"\n",
    "p = str[2]\n",
    "q = str[-2]\n",
    "print (p)\n",
    "print (q)\n"
   ]
  },
  {
   "cell_type": "markdown",
   "metadata": {},
   "source": [
    "Substring can be selected via slice notation using str [start:stop:step]  \n",
    "if we will not put anything in start then it will start from zero index  \n",
    "if we will not put anyting  in stop then it will stop at the end of string or you cna say it will go til -1 index \n",
    "\n"
   ]
  },
  {
   "cell_type": "code",
   "execution_count": 31,
   "metadata": {},
   "outputs": [
    {
     "data": {
      "text/plain": [
       "'🌙🌙🌙🌙'"
      ]
     },
     "execution_count": 31,
     "metadata": {},
     "output_type": "execute_result"
    }
   ],
   "source": [
    "moon_and_stars = '🌟🌟🌙🌟🌟⭐'\n",
    "sun_and_moon = '🌞🌙🌞🌙🌞🌙🌞🌙🌞'\n",
    "\n",
    "moon_and_stars[1:4]\n",
    "moon_and_stars[:3]\n",
    "moon_and_stars[3:]\n",
    "moon_and_stars[:-1]\n",
    "moon_and_stars[:-3]\n",
    "sun_and_moon[::2]\n",
    "sun_and_moon[:-2:2]\n",
    "sun_and_moon[1:-1:2]\n"
   ]
  },
  {
   "cell_type": "markdown",
   "metadata": {},
   "source": [
    "string can be split into smaller things   str.split()  \n",
    "By spliiting the string it convert into the list of spliited orbject whuch can be accesed by indexes  \n",
    "split can be used on multiple character also"
   ]
  },
  {
   "cell_type": "code",
   "execution_count": 37,
   "metadata": {},
   "outputs": [
    {
     "name": "stdout",
     "output_type": "stream",
     "text": [
      "['IIT', 'BOMBAY']\n"
     ]
    }
   ],
   "source": [
    "why = \"IIT|,BOMBAY\"\n",
    "why = why.split(\"|,\")\n",
    "print(why)"
   ]
  },
  {
   "cell_type": "markdown",
   "metadata": {},
   "source": [
    "string support all common sequence operations   \n",
    "Individual code points can be iterated through in a loop for  ``` for item in str```.   \n",
    "Indexes with items can be iterated through in a loop via ```for index, item in enumerate(<str>)```.\n",
    "\n"
   ]
  },
  {
   "cell_type": "code",
   "execution_count": null,
   "metadata": {},
   "outputs": [
    {
     "name": "stdout",
     "output_type": "stream",
     "text": [
      "I\n",
      "I\n",
      "T\n",
      "B\n",
      "O\n",
      "M\n",
      "B\n",
      "A\n",
      "Y\n",
      "1: I\n",
      "2: I\n",
      "3: T\n",
      "4: B\n",
      "5: O\n",
      "6: M\n",
      "7: B\n",
      "8: A\n",
      "9: Y\n"
     ]
    }
   ],
   "source": [
    "why = \"IITBOMBAY\"\n",
    "\n",
    "for letter in why:\n",
    "    print(letter)\n",
    "\n",
    "for index,letter in enumerate(why):\n",
    "    print(f\"{index}: {letter}\")"
   ]
  }
 ],
 "metadata": {
  "kernelspec": {
   "display_name": "Python 3",
   "language": "python",
   "name": "python3"
  },
  "language_info": {
   "codemirror_mode": {
    "name": "ipython",
    "version": 3
   },
   "file_extension": ".py",
   "mimetype": "text/x-python",
   "name": "python",
   "nbconvert_exporter": "python",
   "pygments_lexer": "ipython3",
   "version": "3.13.0"
  }
 },
 "nbformat": 4,
 "nbformat_minor": 2
}
